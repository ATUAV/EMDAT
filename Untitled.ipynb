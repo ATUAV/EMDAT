{
 "cells": [
  {
   "cell_type": "code",
   "execution_count": 1,
   "metadata": {},
   "outputs": [],
   "source": [
    "import numpy as np\n",
    "import pandas as pd\n",
    "from math import isnan\n",
    "import matplotlib.pyplot as plt\n"
   ]
  },
  {
   "cell_type": "code",
   "execution_count": 2,
   "metadata": {},
   "outputs": [
    {
     "name": "stderr",
     "output_type": "stream",
     "text": [
      "/home/grigorii/anaconda3/lib/python3.6/site-packages/IPython/core/interactiveshell.py:2728: DtypeWarning: Columns (34) have mixed types. Specify dtype option on import or set low_memory=False.\n",
      "  interactivity=interactivity, compiler=compiler, result=result)\n"
     ]
    }
   ],
   "source": [
    "## Put the path to the dataset files you want to test with\n",
    "recordings = [7, 19, 26, 36, 38, 52, 57]\n",
    "data = pd.read_csv('src/sampledata/blinks/P7_Data_Export.tsv', sep='\\t')"
   ]
  },
  {
   "cell_type": "code",
   "execution_count": 3,
   "metadata": {
    "scrolled": true
   },
   "outputs": [
    {
     "name": "stdout",
     "output_type": "stream",
     "text": [
      "Number of rows: 28985\n"
     ]
    },
    {
     "data": {
      "text/html": [
       "<div>\n",
       "<style scoped>\n",
       "    .dataframe tbody tr th:only-of-type {\n",
       "        vertical-align: middle;\n",
       "    }\n",
       "\n",
       "    .dataframe tbody tr th {\n",
       "        vertical-align: top;\n",
       "    }\n",
       "\n",
       "    .dataframe thead th {\n",
       "        text-align: right;\n",
       "    }\n",
       "</style>\n",
       "<table border=\"1\" class=\"dataframe\">\n",
       "  <thead>\n",
       "    <tr style=\"text-align: right;\">\n",
       "      <th></th>\n",
       "      <th>ExportDate</th>\n",
       "      <th>StudioVersionRec</th>\n",
       "      <th>StudioProjectName</th>\n",
       "      <th>StudioTestName</th>\n",
       "      <th>ParticipantName</th>\n",
       "      <th>RecordingName</th>\n",
       "      <th>RecordingDate</th>\n",
       "      <th>RecordingDuration</th>\n",
       "      <th>RecordingResolution</th>\n",
       "      <th>PresentationSequence</th>\n",
       "      <th>...</th>\n",
       "      <th>EyePosRightX (ADCSmm)</th>\n",
       "      <th>EyePosRightY (ADCSmm)</th>\n",
       "      <th>EyePosRightZ (ADCSmm)</th>\n",
       "      <th>DistanceLeft</th>\n",
       "      <th>DistanceRight</th>\n",
       "      <th>PupilLeft</th>\n",
       "      <th>PupilRight</th>\n",
       "      <th>ValidityLeft</th>\n",
       "      <th>ValidityRight</th>\n",
       "      <th>Unnamed: 78</th>\n",
       "    </tr>\n",
       "  </thead>\n",
       "  <tbody>\n",
       "    <tr>\n",
       "      <th>0</th>\n",
       "      <td>2018-05-08</td>\n",
       "      <td>3.4.8</td>\n",
       "      <td>MetroQuest-Custom-Buttons</td>\n",
       "      <td>New test</td>\n",
       "      <td>P7</td>\n",
       "      <td>Rec 07</td>\n",
       "      <td>2017-06-19</td>\n",
       "      <td>240328</td>\n",
       "      <td>1280 x 1024</td>\n",
       "      <td>NaN</td>\n",
       "      <td>...</td>\n",
       "      <td>214.21</td>\n",
       "      <td>205.91</td>\n",
       "      <td>593.56</td>\n",
       "      <td>622.56</td>\n",
       "      <td>622.56</td>\n",
       "      <td>3.60</td>\n",
       "      <td>3.54</td>\n",
       "      <td>0.0</td>\n",
       "      <td>0.0</td>\n",
       "      <td>NaN</td>\n",
       "    </tr>\n",
       "    <tr>\n",
       "      <th>1</th>\n",
       "      <td>2018-05-08</td>\n",
       "      <td>3.4.8</td>\n",
       "      <td>MetroQuest-Custom-Buttons</td>\n",
       "      <td>New test</td>\n",
       "      <td>P7</td>\n",
       "      <td>Rec 07</td>\n",
       "      <td>2017-06-19</td>\n",
       "      <td>240328</td>\n",
       "      <td>1280 x 1024</td>\n",
       "      <td>NaN</td>\n",
       "      <td>...</td>\n",
       "      <td>214.21</td>\n",
       "      <td>205.94</td>\n",
       "      <td>593.54</td>\n",
       "      <td>622.55</td>\n",
       "      <td>622.55</td>\n",
       "      <td>3.61</td>\n",
       "      <td>3.55</td>\n",
       "      <td>0.0</td>\n",
       "      <td>0.0</td>\n",
       "      <td>NaN</td>\n",
       "    </tr>\n",
       "    <tr>\n",
       "      <th>2</th>\n",
       "      <td>2018-05-08</td>\n",
       "      <td>3.4.8</td>\n",
       "      <td>MetroQuest-Custom-Buttons</td>\n",
       "      <td>New test</td>\n",
       "      <td>P7</td>\n",
       "      <td>Rec 07</td>\n",
       "      <td>2017-06-19</td>\n",
       "      <td>240328</td>\n",
       "      <td>1280 x 1024</td>\n",
       "      <td>NaN</td>\n",
       "      <td>...</td>\n",
       "      <td>214.20</td>\n",
       "      <td>205.97</td>\n",
       "      <td>593.54</td>\n",
       "      <td>622.57</td>\n",
       "      <td>622.57</td>\n",
       "      <td>3.59</td>\n",
       "      <td>3.54</td>\n",
       "      <td>0.0</td>\n",
       "      <td>0.0</td>\n",
       "      <td>NaN</td>\n",
       "    </tr>\n",
       "    <tr>\n",
       "      <th>3</th>\n",
       "      <td>2018-05-08</td>\n",
       "      <td>3.4.8</td>\n",
       "      <td>MetroQuest-Custom-Buttons</td>\n",
       "      <td>New test</td>\n",
       "      <td>P7</td>\n",
       "      <td>Rec 07</td>\n",
       "      <td>2017-06-19</td>\n",
       "      <td>240328</td>\n",
       "      <td>1280 x 1024</td>\n",
       "      <td>NaN</td>\n",
       "      <td>...</td>\n",
       "      <td>214.20</td>\n",
       "      <td>206.00</td>\n",
       "      <td>593.54</td>\n",
       "      <td>622.54</td>\n",
       "      <td>622.54</td>\n",
       "      <td>3.58</td>\n",
       "      <td>3.52</td>\n",
       "      <td>0.0</td>\n",
       "      <td>0.0</td>\n",
       "      <td>NaN</td>\n",
       "    </tr>\n",
       "    <tr>\n",
       "      <th>4</th>\n",
       "      <td>2018-05-08</td>\n",
       "      <td>3.4.8</td>\n",
       "      <td>MetroQuest-Custom-Buttons</td>\n",
       "      <td>New test</td>\n",
       "      <td>P7</td>\n",
       "      <td>Rec 07</td>\n",
       "      <td>2017-06-19</td>\n",
       "      <td>240328</td>\n",
       "      <td>1280 x 1024</td>\n",
       "      <td>NaN</td>\n",
       "      <td>...</td>\n",
       "      <td>214.19</td>\n",
       "      <td>206.04</td>\n",
       "      <td>593.54</td>\n",
       "      <td>622.56</td>\n",
       "      <td>622.56</td>\n",
       "      <td>3.58</td>\n",
       "      <td>3.51</td>\n",
       "      <td>0.0</td>\n",
       "      <td>0.0</td>\n",
       "      <td>NaN</td>\n",
       "    </tr>\n",
       "  </tbody>\n",
       "</table>\n",
       "<p>5 rows × 79 columns</p>\n",
       "</div>"
      ],
      "text/plain": [
       "   ExportDate StudioVersionRec          StudioProjectName StudioTestName  \\\n",
       "0  2018-05-08            3.4.8  MetroQuest-Custom-Buttons       New test   \n",
       "1  2018-05-08            3.4.8  MetroQuest-Custom-Buttons       New test   \n",
       "2  2018-05-08            3.4.8  MetroQuest-Custom-Buttons       New test   \n",
       "3  2018-05-08            3.4.8  MetroQuest-Custom-Buttons       New test   \n",
       "4  2018-05-08            3.4.8  MetroQuest-Custom-Buttons       New test   \n",
       "\n",
       "  ParticipantName RecordingName RecordingDate  RecordingDuration  \\\n",
       "0              P7        Rec 07    2017-06-19             240328   \n",
       "1              P7        Rec 07    2017-06-19             240328   \n",
       "2              P7        Rec 07    2017-06-19             240328   \n",
       "3              P7        Rec 07    2017-06-19             240328   \n",
       "4              P7        Rec 07    2017-06-19             240328   \n",
       "\n",
       "  RecordingResolution  PresentationSequence     ...       \\\n",
       "0         1280 x 1024                   NaN     ...        \n",
       "1         1280 x 1024                   NaN     ...        \n",
       "2         1280 x 1024                   NaN     ...        \n",
       "3         1280 x 1024                   NaN     ...        \n",
       "4         1280 x 1024                   NaN     ...        \n",
       "\n",
       "  EyePosRightX (ADCSmm) EyePosRightY (ADCSmm)  EyePosRightZ (ADCSmm)  \\\n",
       "0                214.21                205.91                 593.56   \n",
       "1                214.21                205.94                 593.54   \n",
       "2                214.20                205.97                 593.54   \n",
       "3                214.20                206.00                 593.54   \n",
       "4                214.19                206.04                 593.54   \n",
       "\n",
       "   DistanceLeft  DistanceRight  PupilLeft  PupilRight  ValidityLeft  \\\n",
       "0        622.56         622.56       3.60        3.54           0.0   \n",
       "1        622.55         622.55       3.61        3.55           0.0   \n",
       "2        622.57         622.57       3.59        3.54           0.0   \n",
       "3        622.54         622.54       3.58        3.52           0.0   \n",
       "4        622.56         622.56       3.58        3.51           0.0   \n",
       "\n",
       "   ValidityRight  Unnamed: 78  \n",
       "0            0.0          NaN  \n",
       "1            0.0          NaN  \n",
       "2            0.0          NaN  \n",
       "3            0.0          NaN  \n",
       "4            0.0          NaN  \n",
       "\n",
       "[5 rows x 79 columns]"
      ]
     },
     "execution_count": 3,
     "metadata": {},
     "output_type": "execute_result"
    }
   ],
   "source": [
    "num_rows = len(data)\n",
    "print(\"Number of rows: %d\" % num_rows)\n",
    "data.head()"
   ]
  },
  {
   "cell_type": "markdown",
   "metadata": {},
   "source": [
    "# Distribution of blinks for all users"
   ]
  },
  {
   "cell_type": "code",
   "execution_count": 4,
   "metadata": {},
   "outputs": [],
   "source": [
    "def find_blinks(rec_list):\n",
    "    blinks = []\n",
    "    for rec in rec_list:\n",
    "        data = pd.read_csv('src/sampledata/blinks/P%d_Data_Export.tsv' % rec, sep='\\t')\n",
    "        duration_col = data['GazeEventDuration']\n",
    "        event_col = data['StudioEventData']\n",
    "        num_blinks_detected = 0\n",
    "        \n",
    "        for i in range(len(event_col)):\n",
    "            val = event_col[i]\n",
    "            if (isinstance(val, str) and val.startswith(\"Blink\")):\n",
    "                if (duration_col[i] < 500):\n",
    "                    num_blinks_detected += 1\n",
    "                    blinks.append(duration_col[i])\n",
    "        print(\"%d blinks detected in recording %d\" % (num_blinks_detected, rec))\n",
    "    return blinks"
   ]
  },
  {
   "cell_type": "code",
   "execution_count": 5,
   "metadata": {},
   "outputs": [
    {
     "name": "stderr",
     "output_type": "stream",
     "text": [
      "/home/grigorii/anaconda3/lib/python3.6/site-packages/IPython/core/interactiveshell.py:2850: DtypeWarning: Columns (34) have mixed types. Specify dtype option on import or set low_memory=False.\n",
      "  if self.run_code(code, result):\n"
     ]
    },
    {
     "name": "stdout",
     "output_type": "stream",
     "text": [
      "60 blinks detected in recording 7\n",
      "47 blinks detected in recording 19\n",
      "127 blinks detected in recording 26\n",
      "20 blinks detected in recording 36\n",
      "16 blinks detected in recording 38\n"
     ]
    },
    {
     "name": "stderr",
     "output_type": "stream",
     "text": [
      "/home/grigorii/anaconda3/lib/python3.6/site-packages/IPython/core/interactiveshell.py:2850: DtypeWarning: Columns (34,37) have mixed types. Specify dtype option on import or set low_memory=False.\n",
      "  if self.run_code(code, result):\n"
     ]
    },
    {
     "name": "stdout",
     "output_type": "stream",
     "text": [
      "65 blinks detected in recording 52\n",
      "18 blinks detected in recording 57\n"
     ]
    }
   ],
   "source": [
    "blink_lengths_detected = find_blinks(recordings)"
   ]
  },
  {
   "cell_type": "code",
   "execution_count": 6,
   "metadata": {},
   "outputs": [
    {
     "name": "stdout",
     "output_type": "stream",
     "text": [
      "353\n"
     ]
    }
   ],
   "source": [
    "series = pd.Series(blink_lengths_detected)\n",
    "print(len(series))"
   ]
  },
  {
   "cell_type": "code",
   "execution_count": 7,
   "metadata": {},
   "outputs": [
    {
     "data": {
      "text/plain": [
       "Text(0,0.5,'Frequency')"
      ]
     },
     "execution_count": 7,
     "metadata": {},
     "output_type": "execute_result"
    },
    {
     "data": {
      "image/png": "[encoded data removed]",
      "text/plain": [
       "<matplotlib.figure.Figure at 0x7fdcb2c6c748>"
      ]
     },
     "metadata": {},
     "output_type": "display_data"
    }
   ],
   "source": [
    "myplot = series.hist(bins = 30)\n",
    "myplot.set_xlabel(\"Blink duration (ms)\")\n",
    "myplot.set_ylabel(\"Frequency\")"
   ]
  },
  {
   "cell_type": "code",
   "execution_count": 8,
   "metadata": {},
   "outputs": [
    {
     "name": "stdout",
     "output_type": "stream",
     "text": [
      "164.43626062322946\n",
      "44.469819178803945\n"
     ]
    }
   ],
   "source": [
    "print(series.mean())\n",
    "print(series.std())"
   ]
  },
  {
   "cell_type": "markdown",
   "metadata": {},
   "source": [
    "# Recording 26\n",
    "Contains 123 blinks with different cases types of blink recordings."
   ]
  },
  {
   "cell_type": "code",
   "execution_count": 9,
   "metadata": {},
   "outputs": [
    {
     "name": "stderr",
     "output_type": "stream",
     "text": [
      "/home/grigorii/anaconda3/lib/python3.6/site-packages/IPython/core/interactiveshell.py:2850: DtypeWarning: Columns (34) have mixed types. Specify dtype option on import or set low_memory=False.\n",
      "  if self.run_code(code, result):\n"
     ]
    },
    {
     "name": "stdout",
     "output_type": "stream",
     "text": [
      "127 blinks detected in recording 26\n"
     ]
    }
   ],
   "source": [
    "blinks_26 = find_blinks([26])\n"
   ]
  },
  {
   "cell_type": "code",
   "execution_count": 10,
   "metadata": {},
   "outputs": [],
   "source": [
    "series = pd.Series(blinks_26)"
   ]
  },
  {
   "cell_type": "code",
   "execution_count": 11,
   "metadata": {},
   "outputs": [
    {
     "data": {
      "text/plain": [
       "Text(0,0.5,'Frequency')"
      ]
     },
     "execution_count": 11,
     "metadata": {},
     "output_type": "execute_result"
    },
    {
     "data": {
      "image/png": "[encoded data removed]",
      "text/plain": [
       "<matplotlib.figure.Figure at 0x7fdcb2c6c320>"
      ]
     },
     "metadata": {},
     "output_type": "display_data"
    }
   ],
   "source": [
    "myplot = series.hist(bins = 30)\n",
    "myplot.set_xlabel(\"Blink size (ms)\")\n",
    "myplot.set_ylabel(\"Frequency\")"
   ]
  },
  {
   "cell_type": "code",
   "execution_count": null,
   "metadata": {},
   "outputs": [],
   "source": []
  },
  {
   "cell_type": "code",
   "execution_count": null,
   "metadata": {},
   "outputs": [],
   "source": []
  },
  {
   "cell_type": "code",
   "execution_count": null,
   "metadata": {},
   "outputs": [],
   "source": []
  },
  {
   "cell_type": "code",
   "execution_count": null,
   "metadata": {},
   "outputs": [],
   "source": []
  }
 ],
 "metadata": {
  "kernelspec": {
   "display_name": "Python 3",
   "language": "python",
   "name": "python3"
  },
  "language_info": {
   "codemirror_mode": {
    "name": "ipython",
    "version": 3
   },
   "file_extension": ".py",
   "mimetype": "text/x-python",
   "name": "python",
   "nbconvert_exporter": "python",
   "pygments_lexer": "ipython3",
   "version": "3.6.4"
  }
 },
 "nbformat": 4,
 "nbformat_minor": 2
}
