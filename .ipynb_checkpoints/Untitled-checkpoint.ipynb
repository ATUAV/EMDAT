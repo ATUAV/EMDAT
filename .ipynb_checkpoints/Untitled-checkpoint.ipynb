{
 "cells": [
  {
   "cell_type": "code",
   "execution_count": 68,
   "metadata": {},
   "outputs": [],
   "source": [
    "import numpy as np\n",
    "import pandas as pd\n",
    "from math import isnan\n",
    "import matplotlib.pyplot as plt\n"
   ]
  },
  {
   "cell_type": "code",
   "execution_count": 69,
   "metadata": {},
   "outputs": [
    {
     "name": "stderr",
     "output_type": "stream",
     "text": [
      "/home/grigorii/anaconda3/lib/python3.6/site-packages/IPython/core/interactiveshell.py:2728: DtypeWarning: Columns (34) have mixed types. Specify dtype option on import or set low_memory=False.\n",
      "  interactivity=interactivity, compiler=compiler, result=result)\n"
     ]
    }
   ],
   "source": [
    "## Put the path to the dataset files you want to test with\n",
    "recordings = [7, 19, 26, 36, 38, 52, 57]\n",
    "data = pd.read_csv('src/sampledata/blinks/P7_Data_Export.tsv', sep='\\t')"
   ]
  },
  {
   "cell_type": "code",
   "execution_count": 70,
   "metadata": {
    "scrolled": true
   },
   "outputs": [
    {
     "name": "stdout",
     "output_type": "stream",
     "text": [
      "Number of rows: 28985\n"
     ]
    },
    {
     "data": {
      "text/html": [
       "<div>\n",
       "<style scoped>\n",
       "    .dataframe tbody tr th:only-of-type {\n",
       "        vertical-align: middle;\n",
       "    }\n",
       "\n",
       "    .dataframe tbody tr th {\n",
       "        vertical-align: top;\n",
       "    }\n",
       "\n",
       "    .dataframe thead th {\n",
       "        text-align: right;\n",
       "    }\n",
       "</style>\n",
       "<table border=\"1\" class=\"dataframe\">\n",
       "  <thead>\n",
       "    <tr style=\"text-align: right;\">\n",
       "      <th></th>\n",
       "      <th>ExportDate</th>\n",
       "      <th>StudioVersionRec</th>\n",
       "      <th>StudioProjectName</th>\n",
       "      <th>StudioTestName</th>\n",
       "      <th>ParticipantName</th>\n",
       "      <th>RecordingName</th>\n",
       "      <th>RecordingDate</th>\n",
       "      <th>RecordingDuration</th>\n",
       "      <th>RecordingResolution</th>\n",
       "      <th>PresentationSequence</th>\n",
       "      <th>...</th>\n",
       "      <th>DistanceLeft</th>\n",
       "      <th>DistanceRight</th>\n",
       "      <th>PupilLeft</th>\n",
       "      <th>PupilRight</th>\n",
       "      <th>ValidityLeft</th>\n",
       "      <th>ValidityRight</th>\n",
       "      <th>IRMarkerCount</th>\n",
       "      <th>IRMarkerID</th>\n",
       "      <th>PupilGlassesRight</th>\n",
       "      <th>Unnamed: 85</th>\n",
       "    </tr>\n",
       "  </thead>\n",
       "  <tbody>\n",
       "    <tr>\n",
       "      <th>0</th>\n",
       "      <td>2018-05-09</td>\n",
       "      <td>3.4.8</td>\n",
       "      <td>MetroQuest-Custom-Buttons</td>\n",
       "      <td>New test</td>\n",
       "      <td>P7</td>\n",
       "      <td>Rec 07</td>\n",
       "      <td>2017-06-19</td>\n",
       "      <td>240328</td>\n",
       "      <td>1280 x 1024</td>\n",
       "      <td>NaN</td>\n",
       "      <td>...</td>\n",
       "      <td>622.56</td>\n",
       "      <td>622.56</td>\n",
       "      <td>3.60</td>\n",
       "      <td>3.54</td>\n",
       "      <td>0.0</td>\n",
       "      <td>0.0</td>\n",
       "      <td>NaN</td>\n",
       "      <td>NaN</td>\n",
       "      <td>NaN</td>\n",
       "      <td>NaN</td>\n",
       "    </tr>\n",
       "    <tr>\n",
       "      <th>1</th>\n",
       "      <td>2018-05-09</td>\n",
       "      <td>3.4.8</td>\n",
       "      <td>MetroQuest-Custom-Buttons</td>\n",
       "      <td>New test</td>\n",
       "      <td>P7</td>\n",
       "      <td>Rec 07</td>\n",
       "      <td>2017-06-19</td>\n",
       "      <td>240328</td>\n",
       "      <td>1280 x 1024</td>\n",
       "      <td>NaN</td>\n",
       "      <td>...</td>\n",
       "      <td>622.55</td>\n",
       "      <td>622.55</td>\n",
       "      <td>3.61</td>\n",
       "      <td>3.55</td>\n",
       "      <td>0.0</td>\n",
       "      <td>0.0</td>\n",
       "      <td>NaN</td>\n",
       "      <td>NaN</td>\n",
       "      <td>NaN</td>\n",
       "      <td>NaN</td>\n",
       "    </tr>\n",
       "    <tr>\n",
       "      <th>2</th>\n",
       "      <td>2018-05-09</td>\n",
       "      <td>3.4.8</td>\n",
       "      <td>MetroQuest-Custom-Buttons</td>\n",
       "      <td>New test</td>\n",
       "      <td>P7</td>\n",
       "      <td>Rec 07</td>\n",
       "      <td>2017-06-19</td>\n",
       "      <td>240328</td>\n",
       "      <td>1280 x 1024</td>\n",
       "      <td>NaN</td>\n",
       "      <td>...</td>\n",
       "      <td>622.57</td>\n",
       "      <td>622.57</td>\n",
       "      <td>3.59</td>\n",
       "      <td>3.54</td>\n",
       "      <td>0.0</td>\n",
       "      <td>0.0</td>\n",
       "      <td>NaN</td>\n",
       "      <td>NaN</td>\n",
       "      <td>NaN</td>\n",
       "      <td>NaN</td>\n",
       "    </tr>\n",
       "    <tr>\n",
       "      <th>3</th>\n",
       "      <td>2018-05-09</td>\n",
       "      <td>3.4.8</td>\n",
       "      <td>MetroQuest-Custom-Buttons</td>\n",
       "      <td>New test</td>\n",
       "      <td>P7</td>\n",
       "      <td>Rec 07</td>\n",
       "      <td>2017-06-19</td>\n",
       "      <td>240328</td>\n",
       "      <td>1280 x 1024</td>\n",
       "      <td>NaN</td>\n",
       "      <td>...</td>\n",
       "      <td>622.54</td>\n",
       "      <td>622.54</td>\n",
       "      <td>3.58</td>\n",
       "      <td>3.52</td>\n",
       "      <td>0.0</td>\n",
       "      <td>0.0</td>\n",
       "      <td>NaN</td>\n",
       "      <td>NaN</td>\n",
       "      <td>NaN</td>\n",
       "      <td>NaN</td>\n",
       "    </tr>\n",
       "    <tr>\n",
       "      <th>4</th>\n",
       "      <td>2018-05-09</td>\n",
       "      <td>3.4.8</td>\n",
       "      <td>MetroQuest-Custom-Buttons</td>\n",
       "      <td>New test</td>\n",
       "      <td>P7</td>\n",
       "      <td>Rec 07</td>\n",
       "      <td>2017-06-19</td>\n",
       "      <td>240328</td>\n",
       "      <td>1280 x 1024</td>\n",
       "      <td>NaN</td>\n",
       "      <td>...</td>\n",
       "      <td>622.56</td>\n",
       "      <td>622.56</td>\n",
       "      <td>3.58</td>\n",
       "      <td>3.51</td>\n",
       "      <td>0.0</td>\n",
       "      <td>0.0</td>\n",
       "      <td>NaN</td>\n",
       "      <td>NaN</td>\n",
       "      <td>NaN</td>\n",
       "      <td>NaN</td>\n",
       "    </tr>\n",
       "  </tbody>\n",
       "</table>\n",
       "<p>5 rows × 86 columns</p>\n",
       "</div>"
      ],
      "text/plain": [
       "   ExportDate StudioVersionRec          StudioProjectName StudioTestName  \\\n",
       "0  2018-05-09            3.4.8  MetroQuest-Custom-Buttons       New test   \n",
       "1  2018-05-09            3.4.8  MetroQuest-Custom-Buttons       New test   \n",
       "2  2018-05-09            3.4.8  MetroQuest-Custom-Buttons       New test   \n",
       "3  2018-05-09            3.4.8  MetroQuest-Custom-Buttons       New test   \n",
       "4  2018-05-09            3.4.8  MetroQuest-Custom-Buttons       New test   \n",
       "\n",
       "  ParticipantName RecordingName RecordingDate  RecordingDuration  \\\n",
       "0              P7        Rec 07    2017-06-19             240328   \n",
       "1              P7        Rec 07    2017-06-19             240328   \n",
       "2              P7        Rec 07    2017-06-19             240328   \n",
       "3              P7        Rec 07    2017-06-19             240328   \n",
       "4              P7        Rec 07    2017-06-19             240328   \n",
       "\n",
       "  RecordingResolution  PresentationSequence     ...      DistanceLeft  \\\n",
       "0         1280 x 1024                   NaN     ...            622.56   \n",
       "1         1280 x 1024                   NaN     ...            622.55   \n",
       "2         1280 x 1024                   NaN     ...            622.57   \n",
       "3         1280 x 1024                   NaN     ...            622.54   \n",
       "4         1280 x 1024                   NaN     ...            622.56   \n",
       "\n",
       "  DistanceRight  PupilLeft  PupilRight  ValidityLeft  ValidityRight  \\\n",
       "0        622.56       3.60        3.54           0.0            0.0   \n",
       "1        622.55       3.61        3.55           0.0            0.0   \n",
       "2        622.57       3.59        3.54           0.0            0.0   \n",
       "3        622.54       3.58        3.52           0.0            0.0   \n",
       "4        622.56       3.58        3.51           0.0            0.0   \n",
       "\n",
       "   IRMarkerCount  IRMarkerID  PupilGlassesRight  Unnamed: 85  \n",
       "0            NaN         NaN                NaN          NaN  \n",
       "1            NaN         NaN                NaN          NaN  \n",
       "2            NaN         NaN                NaN          NaN  \n",
       "3            NaN         NaN                NaN          NaN  \n",
       "4            NaN         NaN                NaN          NaN  \n",
       "\n",
       "[5 rows x 86 columns]"
      ]
     },
     "execution_count": 70,
     "metadata": {},
     "output_type": "execute_result"
    }
   ],
   "source": [
    "num_rows = len(data)\n",
    "print(\"Number of rows: %d\" % num_rows)\n",
    "data.head()"
   ]
  },
  {
   "cell_type": "markdown",
   "metadata": {},
   "source": [
    "# Distribution of blinks for all users"
   ]
  },
  {
   "cell_type": "code",
   "execution_count": 84,
   "metadata": {},
   "outputs": [],
   "source": [
    "def get_seg_bounds(rec):\n",
    "    \n",
    "    file = open('src/sampledata/blinks/TobiiV3_sample_%d.segs' % rec, 'r')\n",
    "    raw = file.readline()\n",
    "    raw = raw.strip()\n",
    "    raw = raw.split('\\t')\n",
    "    return (int(raw[2]), int(raw[3]))\n",
    "    \n",
    "\n",
    "def find_blinks(rec_list):\n",
    "    blinks = []\n",
    "    for rec in rec_list:\n",
    "        data = pd.read_csv('src/sampledata/blinks/P%d_Data_Export.tsv' % rec, sep='\\t')\n",
    "        lower_bound, upper_bound = get_seg_bounds(rec)\n",
    "        data = data[data['RecordingTimestamp'] >= lower_bound]\n",
    "        data = data[data['RecordingTimestamp'] <= upper_bound]\n",
    "        duration_col = data['GazeEventDuration']\n",
    "        event_col = data['StudioEventData']\n",
    "        num_blinks_detected = 0\n",
    "        for i in event_col.index:\n",
    "            val = event_col[i]\n",
    "            if (isinstance(val, str) and val.startswith(\"Blink\")):\n",
    "                if (duration_col[i] < 500):\n",
    "                    num_blinks_detected += 1\n",
    "                    blinks.append(duration_col[i])\n",
    "        print(\"%d blinks detected in recording %d\" % (num_blinks_detected, rec))\n",
    "    return blinks"
   ]
  },
  {
   "cell_type": "code",
   "execution_count": 85,
   "metadata": {
    "scrolled": true
   },
   "outputs": [
    {
     "name": "stderr",
     "output_type": "stream",
     "text": [
      "/home/grigorii/anaconda3/lib/python3.6/site-packages/IPython/core/interactiveshell.py:2850: DtypeWarning: Columns (34) have mixed types. Specify dtype option on import or set low_memory=False.\n",
      "  if self.run_code(code, result):\n"
     ]
    },
    {
     "name": "stdout",
     "output_type": "stream",
     "text": [
      "34 blinks detected in recording 7\n",
      "26 blinks detected in recording 19\n",
      "107 blinks detected in recording 26\n",
      "15 blinks detected in recording 36\n",
      "9 blinks detected in recording 38\n"
     ]
    },
    {
     "name": "stderr",
     "output_type": "stream",
     "text": [
      "/home/grigorii/anaconda3/lib/python3.6/site-packages/IPython/core/interactiveshell.py:2850: DtypeWarning: Columns (34,37) have mixed types. Specify dtype option on import or set low_memory=False.\n",
      "  if self.run_code(code, result):\n"
     ]
    },
    {
     "name": "stdout",
     "output_type": "stream",
     "text": [
      "53 blinks detected in recording 52\n",
      "12 blinks detected in recording 57\n"
     ]
    }
   ],
   "source": [
    "blink_lengths_detected = find_blinks(recordings)"
   ]
  },
  {
   "cell_type": "code",
   "execution_count": 86,
   "metadata": {},
   "outputs": [
    {
     "name": "stdout",
     "output_type": "stream",
     "text": [
      "256\n"
     ]
    }
   ],
   "source": [
    "series = pd.Series(blink_lengths_detected)\n",
    "print(len(series))"
   ]
  },
  {
   "cell_type": "code",
   "execution_count": 80,
   "metadata": {},
   "outputs": [
    {
     "data": {
      "text/plain": [
       "Text(0,0.5,'Frequency')"
      ]
     },
     "execution_count": 80,
     "metadata": {},
     "output_type": "execute_result"
    },
    {
     "data": {
      "image/png": "[encoded data removed]",
      "text/plain": [
       "<matplotlib.figure.Figure at 0x7f9718d2d908>"
      ]
     },
     "metadata": {},
     "output_type": "display_data"
    }
   ],
   "source": [
    "myplot = series.hist(bins = 30)\n",
    "myplot.set_xlabel(\"Blink duration (ms)\")\n",
    "myplot.set_ylabel(\"Frequency\")"
   ]
  },
  {
   "cell_type": "code",
   "execution_count": 8,
   "metadata": {},
   "outputs": [
    {
     "name": "stdout",
     "output_type": "stream",
     "text": [
      "163.1206896551724\n",
      "42.86456173036382\n"
     ]
    }
   ],
   "source": [
    "print(series.mean())\n",
    "print(series.std())"
   ]
  },
  {
   "cell_type": "markdown",
   "metadata": {},
   "source": [
    "# Recording 26\n",
    "Contains 123 blinks with different cases types of blink recordings."
   ]
  },
  {
   "cell_type": "code",
   "execution_count": 9,
   "metadata": {},
   "outputs": [
    {
     "name": "stderr",
     "output_type": "stream",
     "text": [
      "/home/grigorii/anaconda3/lib/python3.6/site-packages/IPython/core/interactiveshell.py:2850: DtypeWarning: Columns (34) have mixed types. Specify dtype option on import or set low_memory=False.\n",
      "  if self.run_code(code, result):\n"
     ]
    },
    {
     "name": "stdout",
     "output_type": "stream",
     "text": [
      "102 blinks detected in recording 26\n"
     ]
    }
   ],
   "source": [
    "blinks_26 = find_blinks([26])\n"
   ]
  },
  {
   "cell_type": "code",
   "execution_count": 10,
   "metadata": {},
   "outputs": [],
   "source": [
    "series = pd.Series(blinks_26)"
   ]
  },
  {
   "cell_type": "code",
   "execution_count": 11,
   "metadata": {},
   "outputs": [
    {
     "data": {
      "text/plain": [
       "Text(0,0.5,'Frequency')"
      ]
     },
     "execution_count": 11,
     "metadata": {},
     "output_type": "execute_result"
    },
    {
     "data": {
      "image/png": "[encoded data removed]",
      "text/plain": [
       "<matplotlib.figure.Figure at 0x7f97199edc50>"
      ]
     },
     "metadata": {},
     "output_type": "display_data"
    }
   ],
   "source": [
    "myplot = series.hist(bins = 30)\n",
    "myplot.set_xlabel(\"Blink size (ms)\")\n",
    "myplot.set_ylabel(\"Frequency\")"
   ]
  },
  {
   "cell_type": "markdown",
   "metadata": {},
   "source": [
    "# Verifying individual features for segments"
   ]
  },
  {
   "cell_type": "code",
   "execution_count": 12,
   "metadata": {},
   "outputs": [
    {
     "ename": "FileNotFoundError",
     "evalue": "[Errno 2] No such file or directory: 'src/blinks.txt'",
     "output_type": "error",
     "traceback": [
      "\u001b[0;31m---------------------------------------------------------------------------\u001b[0m",
      "\u001b[0;31mFileNotFoundError\u001b[0m                         Traceback (most recent call last)",
      "\u001b[0;32m<ipython-input-12-e7dfff9543d7>\u001b[0m in \u001b[0;36m<module>\u001b[0;34m()\u001b[0m\n\u001b[1;32m     10\u001b[0m     \u001b[0;32mreturn\u001b[0m \u001b[0mblink_sizes\u001b[0m\u001b[0;34m\u001b[0m\u001b[0m\n\u001b[1;32m     11\u001b[0m \u001b[0;34m\u001b[0m\u001b[0m\n\u001b[0;32m---> 12\u001b[0;31m \u001b[0msizes\u001b[0m \u001b[0;34m=\u001b[0m \u001b[0mget_blink_sizes\u001b[0m\u001b[0;34m(\u001b[0m\u001b[0;34m)\u001b[0m\u001b[0;34m\u001b[0m\u001b[0m\n\u001b[0m",
      "\u001b[0;32m<ipython-input-12-e7dfff9543d7>\u001b[0m in \u001b[0;36mget_blink_sizes\u001b[0;34m()\u001b[0m\n\u001b[1;32m      1\u001b[0m \u001b[0;32mdef\u001b[0m \u001b[0mget_blink_sizes\u001b[0m\u001b[0;34m(\u001b[0m\u001b[0;34m)\u001b[0m\u001b[0;34m:\u001b[0m\u001b[0;34m\u001b[0m\u001b[0m\n\u001b[1;32m      2\u001b[0m     \u001b[0mblink_sizes\u001b[0m \u001b[0;34m=\u001b[0m \u001b[0;34m[\u001b[0m\u001b[0;34m]\u001b[0m\u001b[0;34m\u001b[0m\u001b[0m\n\u001b[0;32m----> 3\u001b[0;31m     \u001b[0mfile\u001b[0m \u001b[0;34m=\u001b[0m \u001b[0mopen\u001b[0m\u001b[0;34m(\u001b[0m\u001b[0;34m'src/blinks.txt'\u001b[0m\u001b[0;34m,\u001b[0m \u001b[0;34m'r'\u001b[0m\u001b[0;34m)\u001b[0m\u001b[0;34m\u001b[0m\u001b[0m\n\u001b[0m\u001b[1;32m      4\u001b[0m     \u001b[0;32mfor\u001b[0m \u001b[0mline\u001b[0m \u001b[0;32min\u001b[0m \u001b[0mfile\u001b[0m\u001b[0;34m:\u001b[0m\u001b[0;34m\u001b[0m\u001b[0m\n\u001b[1;32m      5\u001b[0m         \u001b[0mline\u001b[0m \u001b[0;34m=\u001b[0m \u001b[0mline\u001b[0m\u001b[0;34m.\u001b[0m\u001b[0mstrip\u001b[0m\u001b[0;34m(\u001b[0m\u001b[0;34m)\u001b[0m\u001b[0;34m\u001b[0m\u001b[0m\n",
      "\u001b[0;31mFileNotFoundError\u001b[0m: [Errno 2] No such file or directory: 'src/blinks.txt'"
     ]
    }
   ],
   "source": [
    "def get_blink_sizes():\n",
    "    blink_sizes = []\n",
    "    file = open('src/blinks.txt', 'r')\n",
    "    for line in file:\n",
    "        line = line.strip()\n",
    "        line = line.split(' ')\n",
    "        blink_sizes.append(int(line[4]) - int(line[3]))\n",
    "                           \n",
    "    file.close()\n",
    "    return blink_sizes\n",
    "\n",
    "sizes = get_blink_sizes()"
   ]
  },
  {
   "cell_type": "code",
   "execution_count": 13,
   "metadata": {},
   "outputs": [
    {
     "ename": "NameError",
     "evalue": "name 'sizes' is not defined",
     "output_type": "error",
     "traceback": [
      "\u001b[0;31m---------------------------------------------------------------------------\u001b[0m",
      "\u001b[0;31mNameError\u001b[0m                                 Traceback (most recent call last)",
      "\u001b[0;32m<ipython-input-13-63d85657ae14>\u001b[0m in \u001b[0;36m<module>\u001b[0;34m()\u001b[0m\n\u001b[0;32m----> 1\u001b[0;31m \u001b[0mseries\u001b[0m \u001b[0;34m=\u001b[0m \u001b[0mpd\u001b[0m\u001b[0;34m.\u001b[0m\u001b[0mSeries\u001b[0m\u001b[0;34m(\u001b[0m\u001b[0msizes\u001b[0m\u001b[0;34m)\u001b[0m\u001b[0;34m\u001b[0m\u001b[0m\n\u001b[0m\u001b[1;32m      2\u001b[0m \u001b[0mprint\u001b[0m\u001b[0;34m(\u001b[0m\u001b[0mlen\u001b[0m\u001b[0;34m(\u001b[0m\u001b[0mseries\u001b[0m\u001b[0;34m)\u001b[0m\u001b[0;34m)\u001b[0m\u001b[0;34m\u001b[0m\u001b[0m\n",
      "\u001b[0;31mNameError\u001b[0m: name 'sizes' is not defined"
     ]
    }
   ],
   "source": [
    "series = pd.Series(sizes)\n",
    "print(len(series))"
   ]
  },
  {
   "cell_type": "code",
   "execution_count": 14,
   "metadata": {},
   "outputs": [
    {
     "name": "stdout",
     "output_type": "stream",
     "text": [
      "16197\n",
      "158.7941176470588\n",
      "38.99386553310335\n"
     ]
    }
   ],
   "source": [
    "print(series.sum())\n",
    "print(series.mean())\n",
    "print(series.std())"
   ]
  },
  {
   "cell_type": "code",
   "execution_count": 15,
   "metadata": {},
   "outputs": [
    {
     "name": "stdout",
     "output_type": "stream",
     "text": [
      "8\n",
      "258\n"
     ]
    }
   ],
   "source": [
    "print(series.min())\n",
    "print(series.max())"
   ]
  },
  {
   "cell_type": "markdown",
   "metadata": {},
   "source": [
    "# False positives and false negatives"
   ]
  },
  {
   "cell_type": "code",
   "execution_count": 81,
   "metadata": {},
   "outputs": [],
   "source": [
    "def get_detected_blink_bounds(rec):\n",
    "    blink_bounds = []\n",
    "    file = open('src/outputfolder/blinks/blinks_P%d.txt' % rec, 'r')\n",
    "    for line in file:\n",
    "        line = line.strip()\n",
    "        line = line.split(' ')\n",
    "        blink_bounds.append((int(line[3]), int(line[4])))\n",
    "                           \n",
    "    file.close()\n",
    "    return blink_bounds\n",
    "\n",
    "\n",
    "def detect_false_positives(rec_list):\n",
    "\n",
    "    blinks = []\n",
    "    total_false_positives = 0\n",
    "    total_true_positives = 0\n",
    "    for rec in rec_list:\n",
    "        lower_bound_seg, upper_bound_seg = get_seg_bounds(rec)\n",
    "        false_positives = 0\n",
    "        true_positives = 0\n",
    "        blinks = get_detected_blink_bounds(rec)\n",
    "        data = pd.read_csv('src/sampledata/blinks/P%d_Data_Export.tsv' % rec, sep='\\t')\n",
    "        data = data[data['RecordingTimestamp'] >= lower_bound_seg]\n",
    "        data = data[data['RecordingTimestamp'] <= upper_bound_seg]\n",
    "        \n",
    "        for blink in blinks:\n",
    "            \n",
    "            lb_blink, ub_blink = blink\n",
    "            #print(blink)\n",
    "            data_segment = data[data['RecordingTimestamp'] >= lb_blink - 100]\n",
    "            data_segment = data_segment[data_segment['RecordingTimestamp'] <= ub_blink + 100]\n",
    "            \n",
    "            if (not ((data_segment['StudioEventData'].str.startswith(\"Blink\", na=False))).any()):\n",
    "                false_positives += 1\n",
    "                if (rec == 7):\n",
    "                    print(lb_blink, ub_blink)\n",
    "            else:\n",
    "                true_positives += 1\n",
    "        print('User P%d has %d false positives' % (rec, false_positives))\n",
    "        print('User P%d has %d true positives' % (rec, true_positives))\n",
    "        total_false_positives += false_positives\n",
    "        total_true_positives += true_positives\n",
    "        \n",
    "    return total_false_positives, total_true_positives\n",
    "\n",
    "def check_if_within_blink(timestamp, blinks):\n",
    "    for blink in blinks:\n",
    "        if (timestamp >= (blink[0] - 100) and timestamp <= (blink[1] + 100)):\n",
    "            return True\n",
    "    return False\n",
    "\n",
    "def detect_false_negatives(rec_list):\n",
    "    blinks = []\n",
    "    total_false_negatives = 0\n",
    "\n",
    "    for rec in rec_list:\n",
    "        false_negatives = 0\n",
    "        data = pd.read_csv('src/sampledata/blinks/P%d_Data_Export.tsv' % rec, sep='\\t')\n",
    "        lower_bound, upper_bound = get_seg_bounds(rec)\n",
    "        data = data[data['RecordingTimestamp'] >= lower_bound]\n",
    "        data = data[data['RecordingTimestamp'] <= upper_bound]\n",
    "        blinks = get_detected_blink_bounds(rec)\n",
    "        \n",
    "        real_blink_timestamps = data[data['StudioEventData'].str.startswith(\"Blink\", na=False)]['RecordingTimestamp']\n",
    "        \n",
    "        for val in real_blink_timestamps:\n",
    "            if (not check_if_within_blink(val, blinks)):\n",
    "                false_negatives += 1\n",
    "                if (rec == 7):\n",
    "                    print(val)\n",
    "        total_false_negatives += false_negatives\n",
    "        print('User P%d has %d false negatives' % (rec, false_negatives))\n",
    "        \n",
    "    return total_false_negatives"
   ]
  },
  {
   "cell_type": "code",
   "execution_count": 82,
   "metadata": {
    "scrolled": true
   },
   "outputs": [
    {
     "name": "stderr",
     "output_type": "stream",
     "text": [
      "/home/grigorii/anaconda3/lib/python3.6/site-packages/IPython/core/interactiveshell.py:2856: DtypeWarning: Columns (34) have mixed types. Specify dtype option on import or set low_memory=False.\n",
      "  if self.run_code(code, result):\n"
     ]
    },
    {
     "name": "stdout",
     "output_type": "stream",
     "text": [
      "197412 197479\n",
      "201401 201485\n",
      "User P7 has 2 false positives\n",
      "User P7 has 34 true positives\n",
      "User P19 has 7 false positives\n",
      "User P19 has 26 true positives\n",
      "User P26 has 5 false positives\n",
      "User P26 has 107 true positives\n",
      "User P36 has 5 false positives\n",
      "User P36 has 14 true positives\n",
      "User P38 has 9 false positives\n",
      "User P38 has 8 true positives\n"
     ]
    },
    {
     "name": "stderr",
     "output_type": "stream",
     "text": [
      "/home/grigorii/anaconda3/lib/python3.6/site-packages/IPython/core/interactiveshell.py:2856: DtypeWarning: Columns (34,37) have mixed types. Specify dtype option on import or set low_memory=False.\n",
      "  if self.run_code(code, result):\n"
     ]
    },
    {
     "name": "stdout",
     "output_type": "stream",
     "text": [
      "User P52 has 22 false positives\n",
      "User P52 has 46 true positives\n",
      "User P57 has 5 false positives\n",
      "User P57 has 12 true positives\n"
     ]
    },
    {
     "data": {
      "text/plain": [
       "(55, 247)"
      ]
     },
     "execution_count": 82,
     "metadata": {},
     "output_type": "execute_result"
    }
   ],
   "source": [
    "detect_false_positives(recordings)"
   ]
  },
  {
   "cell_type": "code",
   "execution_count": 83,
   "metadata": {},
   "outputs": [
    {
     "name": "stderr",
     "output_type": "stream",
     "text": [
      "/home/grigorii/anaconda3/lib/python3.6/site-packages/IPython/core/interactiveshell.py:2856: DtypeWarning: Columns (34) have mixed types. Specify dtype option on import or set low_memory=False.\n",
      "  if self.run_code(code, result):\n"
     ]
    },
    {
     "name": "stdout",
     "output_type": "stream",
     "text": [
      "User P7 has 0 false negatives\n",
      "User P19 has 0 false negatives\n",
      "User P26 has 0 false negatives\n",
      "User P36 has 1 false negatives\n",
      "User P38 has 1 false negatives\n"
     ]
    },
    {
     "name": "stderr",
     "output_type": "stream",
     "text": [
      "/home/grigorii/anaconda3/lib/python3.6/site-packages/IPython/core/interactiveshell.py:2856: DtypeWarning: Columns (34,37) have mixed types. Specify dtype option on import or set low_memory=False.\n",
      "  if self.run_code(code, result):\n"
     ]
    },
    {
     "name": "stdout",
     "output_type": "stream",
     "text": [
      "User P52 has 8 false negatives\n",
      "User P57 has 0 false negatives\n"
     ]
    },
    {
     "data": {
      "text/plain": [
       "10"
      ]
     },
     "execution_count": 83,
     "metadata": {},
     "output_type": "execute_result"
    }
   ],
   "source": [
    "detect_false_negatives(recordings)"
   ]
  },
  {
   "cell_type": "code",
   "execution_count": null,
   "metadata": {},
   "outputs": [],
   "source": []
  }
 ],
 "metadata": {
  "kernelspec": {
   "display_name": "Python 3",
   "language": "python",
   "name": "python3"
  },
  "language_info": {
   "codemirror_mode": {
    "name": "ipython",
    "version": 3
   },
   "file_extension": ".py",
   "mimetype": "text/x-python",
   "name": "python",
   "nbconvert_exporter": "python",
   "pygments_lexer": "ipython3",
   "version": "3.6.4"
  }
 },
 "nbformat": 4,
 "nbformat_minor": 2
}
