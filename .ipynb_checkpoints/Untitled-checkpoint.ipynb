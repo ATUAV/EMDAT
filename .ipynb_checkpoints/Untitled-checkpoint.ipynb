{
 "cells": [
  {
   "cell_type": "code",
   "execution_count": 1,
   "metadata": {},
   "outputs": [],
   "source": [
    "import numpy as np\n",
    "import pandas as pd\n",
    "from math import isnan\n",
    "import matplotlib.pyplot as plt\n"
   ]
  },
  {
   "cell_type": "code",
   "execution_count": 2,
   "metadata": {},
   "outputs": [
    {
     "name": "stderr",
     "output_type": "stream",
     "text": [
      "/home/grigorii/anaconda3/lib/python3.6/site-packages/IPython/core/interactiveshell.py:2728: DtypeWarning: Columns (34) have mixed types. Specify dtype option on import or set low_memory=False.\n",
      "  interactivity=interactivity, compiler=compiler, result=result)\n"
     ]
    }
   ],
   "source": [
    "## Put the path to the dataset files you want to test with\n",
    "recordings = [7, 19, 26, 36, 38, 52, 57]\n",
    "data = pd.read_csv('src/sampledata/blinks/MetroQuest-Custom-Buttons_New test_Rec 57.tsv', sep='\\t')"
   ]
  },
  {
   "cell_type": "code",
   "execution_count": 3,
   "metadata": {
    "scrolled": true
   },
   "outputs": [
    {
     "name": "stdout",
     "output_type": "stream",
     "text": [
      "Number of rows: 32103\n"
     ]
    },
    {
     "data": {
      "text/html": [
       "<div>\n",
       "<style scoped>\n",
       "    .dataframe tbody tr th:only-of-type {\n",
       "        vertical-align: middle;\n",
       "    }\n",
       "\n",
       "    .dataframe tbody tr th {\n",
       "        vertical-align: top;\n",
       "    }\n",
       "\n",
       "    .dataframe thead th {\n",
       "        text-align: right;\n",
       "    }\n",
       "</style>\n",
       "<table border=\"1\" class=\"dataframe\">\n",
       "  <thead>\n",
       "    <tr style=\"text-align: right;\">\n",
       "      <th></th>\n",
       "      <th>ExportDate</th>\n",
       "      <th>StudioVersionRec</th>\n",
       "      <th>StudioProjectName</th>\n",
       "      <th>StudioTestName</th>\n",
       "      <th>ParticipantName</th>\n",
       "      <th>RecordingName</th>\n",
       "      <th>RecordingDate</th>\n",
       "      <th>RecordingDuration</th>\n",
       "      <th>RecordingResolution</th>\n",
       "      <th>PresentationSequence</th>\n",
       "      <th>...</th>\n",
       "      <th>DistanceLeft</th>\n",
       "      <th>DistanceRight</th>\n",
       "      <th>PupilLeft</th>\n",
       "      <th>PupilRight</th>\n",
       "      <th>ValidityLeft</th>\n",
       "      <th>ValidityRight</th>\n",
       "      <th>IRMarkerCount</th>\n",
       "      <th>IRMarkerID</th>\n",
       "      <th>PupilGlassesRight</th>\n",
       "      <th>Unnamed: 85</th>\n",
       "    </tr>\n",
       "  </thead>\n",
       "  <tbody>\n",
       "    <tr>\n",
       "      <th>0</th>\n",
       "      <td>2018-05-04</td>\n",
       "      <td>3.4.8</td>\n",
       "      <td>MetroQuest-Custom-Buttons</td>\n",
       "      <td>New test</td>\n",
       "      <td>P57</td>\n",
       "      <td>Rec 57</td>\n",
       "      <td>2017-07-19</td>\n",
       "      <td>266077</td>\n",
       "      <td>1280 x 1024</td>\n",
       "      <td>NaN</td>\n",
       "      <td>...</td>\n",
       "      <td>643.09</td>\n",
       "      <td>643.09</td>\n",
       "      <td>4.02</td>\n",
       "      <td>4.00</td>\n",
       "      <td>0.0</td>\n",
       "      <td>0.0</td>\n",
       "      <td>NaN</td>\n",
       "      <td>NaN</td>\n",
       "      <td>NaN</td>\n",
       "      <td>NaN</td>\n",
       "    </tr>\n",
       "    <tr>\n",
       "      <th>1</th>\n",
       "      <td>2018-05-04</td>\n",
       "      <td>3.4.8</td>\n",
       "      <td>MetroQuest-Custom-Buttons</td>\n",
       "      <td>New test</td>\n",
       "      <td>P57</td>\n",
       "      <td>Rec 57</td>\n",
       "      <td>2017-07-19</td>\n",
       "      <td>266077</td>\n",
       "      <td>1280 x 1024</td>\n",
       "      <td>NaN</td>\n",
       "      <td>...</td>\n",
       "      <td>643.09</td>\n",
       "      <td>643.09</td>\n",
       "      <td>4.03</td>\n",
       "      <td>3.98</td>\n",
       "      <td>0.0</td>\n",
       "      <td>0.0</td>\n",
       "      <td>NaN</td>\n",
       "      <td>NaN</td>\n",
       "      <td>NaN</td>\n",
       "      <td>NaN</td>\n",
       "    </tr>\n",
       "    <tr>\n",
       "      <th>2</th>\n",
       "      <td>2018-05-04</td>\n",
       "      <td>3.4.8</td>\n",
       "      <td>MetroQuest-Custom-Buttons</td>\n",
       "      <td>New test</td>\n",
       "      <td>P57</td>\n",
       "      <td>Rec 57</td>\n",
       "      <td>2017-07-19</td>\n",
       "      <td>266077</td>\n",
       "      <td>1280 x 1024</td>\n",
       "      <td>NaN</td>\n",
       "      <td>...</td>\n",
       "      <td>643.11</td>\n",
       "      <td>643.11</td>\n",
       "      <td>4.02</td>\n",
       "      <td>3.97</td>\n",
       "      <td>0.0</td>\n",
       "      <td>0.0</td>\n",
       "      <td>NaN</td>\n",
       "      <td>NaN</td>\n",
       "      <td>NaN</td>\n",
       "      <td>NaN</td>\n",
       "    </tr>\n",
       "    <tr>\n",
       "      <th>3</th>\n",
       "      <td>2018-05-04</td>\n",
       "      <td>3.4.8</td>\n",
       "      <td>MetroQuest-Custom-Buttons</td>\n",
       "      <td>New test</td>\n",
       "      <td>P57</td>\n",
       "      <td>Rec 57</td>\n",
       "      <td>2017-07-19</td>\n",
       "      <td>266077</td>\n",
       "      <td>1280 x 1024</td>\n",
       "      <td>NaN</td>\n",
       "      <td>...</td>\n",
       "      <td>643.13</td>\n",
       "      <td>643.13</td>\n",
       "      <td>4.02</td>\n",
       "      <td>3.97</td>\n",
       "      <td>0.0</td>\n",
       "      <td>0.0</td>\n",
       "      <td>NaN</td>\n",
       "      <td>NaN</td>\n",
       "      <td>NaN</td>\n",
       "      <td>NaN</td>\n",
       "    </tr>\n",
       "    <tr>\n",
       "      <th>4</th>\n",
       "      <td>2018-05-04</td>\n",
       "      <td>3.4.8</td>\n",
       "      <td>MetroQuest-Custom-Buttons</td>\n",
       "      <td>New test</td>\n",
       "      <td>P57</td>\n",
       "      <td>Rec 57</td>\n",
       "      <td>2017-07-19</td>\n",
       "      <td>266077</td>\n",
       "      <td>1280 x 1024</td>\n",
       "      <td>NaN</td>\n",
       "      <td>...</td>\n",
       "      <td>643.13</td>\n",
       "      <td>643.13</td>\n",
       "      <td>4.01</td>\n",
       "      <td>3.97</td>\n",
       "      <td>0.0</td>\n",
       "      <td>0.0</td>\n",
       "      <td>NaN</td>\n",
       "      <td>NaN</td>\n",
       "      <td>NaN</td>\n",
       "      <td>NaN</td>\n",
       "    </tr>\n",
       "  </tbody>\n",
       "</table>\n",
       "<p>5 rows × 86 columns</p>\n",
       "</div>"
      ],
      "text/plain": [
       "   ExportDate StudioVersionRec          StudioProjectName StudioTestName  \\\n",
       "0  2018-05-04            3.4.8  MetroQuest-Custom-Buttons       New test   \n",
       "1  2018-05-04            3.4.8  MetroQuest-Custom-Buttons       New test   \n",
       "2  2018-05-04            3.4.8  MetroQuest-Custom-Buttons       New test   \n",
       "3  2018-05-04            3.4.8  MetroQuest-Custom-Buttons       New test   \n",
       "4  2018-05-04            3.4.8  MetroQuest-Custom-Buttons       New test   \n",
       "\n",
       "  ParticipantName RecordingName RecordingDate  RecordingDuration  \\\n",
       "0             P57        Rec 57    2017-07-19             266077   \n",
       "1             P57        Rec 57    2017-07-19             266077   \n",
       "2             P57        Rec 57    2017-07-19             266077   \n",
       "3             P57        Rec 57    2017-07-19             266077   \n",
       "4             P57        Rec 57    2017-07-19             266077   \n",
       "\n",
       "  RecordingResolution  PresentationSequence     ...      DistanceLeft  \\\n",
       "0         1280 x 1024                   NaN     ...            643.09   \n",
       "1         1280 x 1024                   NaN     ...            643.09   \n",
       "2         1280 x 1024                   NaN     ...            643.11   \n",
       "3         1280 x 1024                   NaN     ...            643.13   \n",
       "4         1280 x 1024                   NaN     ...            643.13   \n",
       "\n",
       "  DistanceRight  PupilLeft  PupilRight  ValidityLeft  ValidityRight  \\\n",
       "0        643.09       4.02        4.00           0.0            0.0   \n",
       "1        643.09       4.03        3.98           0.0            0.0   \n",
       "2        643.11       4.02        3.97           0.0            0.0   \n",
       "3        643.13       4.02        3.97           0.0            0.0   \n",
       "4        643.13       4.01        3.97           0.0            0.0   \n",
       "\n",
       "   IRMarkerCount  IRMarkerID  PupilGlassesRight  Unnamed: 85  \n",
       "0            NaN         NaN                NaN          NaN  \n",
       "1            NaN         NaN                NaN          NaN  \n",
       "2            NaN         NaN                NaN          NaN  \n",
       "3            NaN         NaN                NaN          NaN  \n",
       "4            NaN         NaN                NaN          NaN  \n",
       "\n",
       "[5 rows x 86 columns]"
      ]
     },
     "execution_count": 3,
     "metadata": {},
     "output_type": "execute_result"
    }
   ],
   "source": [
    "num_rows = len(data)\n",
    "print(\"Number of rows: %d\" % num_rows)\n",
    "data.head()"
   ]
  },
  {
   "cell_type": "markdown",
   "metadata": {},
   "source": [
    "# Distribution of blinks for all users"
   ]
  },
  {
   "cell_type": "code",
   "execution_count": 4,
   "metadata": {},
   "outputs": [],
   "source": [
    "def find_blinks():\n",
    "    blinks = []\n",
    "    for rec in recordings:\n",
    "        data = pd.read_csv('src/sampledata/blinks/MetroQuest-Custom-Buttons_New test_Rec %d.tsv' % rec, sep='\\t')\n",
    "        duration_col = data['GazeEventDuration']\n",
    "        event_col = data['StudioEventData']\n",
    "        num_blinks_detected = 0\n",
    "        \n",
    "        for i in range(len(event_col)):\n",
    "            val = event_col[i]\n",
    "            if (isinstance(val, str) and val.startswith(\"Blink\")):\n",
    "                if (duration_col[i] < 500 and duration_col[i] > 8):\n",
    "                    num_blinks_detected += 1\n",
    "                    blinks.append(duration_col[i])\n",
    "        print(\"%d blinks detected in recording %d\" % (num_blinks_detected, rec))\n",
    "    return blinks"
   ]
  },
  {
   "cell_type": "code",
   "execution_count": 5,
   "metadata": {},
   "outputs": [
    {
     "name": "stderr",
     "output_type": "stream",
     "text": [
      "/home/grigorii/anaconda3/lib/python3.6/site-packages/IPython/core/interactiveshell.py:2850: DtypeWarning: Columns (34) have mixed types. Specify dtype option on import or set low_memory=False.\n",
      "  if self.run_code(code, result):\n"
     ]
    },
    {
     "name": "stdout",
     "output_type": "stream",
     "text": [
      "59 blinks detected in recording 7\n",
      "45 blinks detected in recording 19\n",
      "123 blinks detected in recording 26\n",
      "21 blinks detected in recording 36\n",
      "15 blinks detected in recording 38\n"
     ]
    },
    {
     "name": "stderr",
     "output_type": "stream",
     "text": [
      "/home/grigorii/anaconda3/lib/python3.6/site-packages/IPython/core/interactiveshell.py:2850: DtypeWarning: Columns (34,37) have mixed types. Specify dtype option on import or set low_memory=False.\n",
      "  if self.run_code(code, result):\n"
     ]
    },
    {
     "name": "stdout",
     "output_type": "stream",
     "text": [
      "61 blinks detected in recording 52\n",
      "18 blinks detected in recording 57\n"
     ]
    }
   ],
   "source": [
    "blink_lengths_detected = find_blinks()"
   ]
  },
  {
   "cell_type": "code",
   "execution_count": 6,
   "metadata": {},
   "outputs": [],
   "source": [
    "series = pd.Series(blink_lengths_detected)"
   ]
  },
  {
   "cell_type": "code",
   "execution_count": 12,
   "metadata": {},
   "outputs": [
    {
     "data": {
      "text/plain": [
       "Text(0,0.5,'Frequency')"
      ]
     },
     "execution_count": 12,
     "metadata": {},
     "output_type": "execute_result"
    },
    {
     "data": {
      "image/png": "[encoded data removed]",
      "text/plain": [
       "<matplotlib.figure.Figure at 0x7f30f98cb3c8>"
      ]
     },
     "metadata": {},
     "output_type": "display_data"
    }
   ],
   "source": [
    "myplot = series.hist(bins = 30)\n",
    "myplot.set_xlabel(\"Blink size (ms)\")\n",
    "myplot.set_ylabel(\"Frequency\")"
   ]
  },
  {
   "cell_type": "markdown",
   "metadata": {},
   "source": [
    "# Recording 26\n",
    "Contains 123 blin"
   ]
  },
  {
   "cell_type": "code",
   "execution_count": null,
   "metadata": {},
   "outputs": [],
   "source": []
  },
  {
   "cell_type": "code",
   "execution_count": null,
   "metadata": {},
   "outputs": [],
   "source": []
  },
  {
   "cell_type": "code",
   "execution_count": null,
   "metadata": {},
   "outputs": [],
   "source": []
  },
  {
   "cell_type": "code",
   "execution_count": null,
   "metadata": {},
   "outputs": [],
   "source": []
  },
  {
   "cell_type": "code",
   "execution_count": null,
   "metadata": {},
   "outputs": [],
   "source": []
  },
  {
   "cell_type": "code",
   "execution_count": null,
   "metadata": {},
   "outputs": [],
   "source": []
  },
  {
   "cell_type": "code",
   "execution_count": null,
   "metadata": {},
   "outputs": [],
   "source": []
  }
 ],
 "metadata": {
  "kernelspec": {
   "display_name": "Python 3",
   "language": "python",
   "name": "python3"
  },
  "language_info": {
   "codemirror_mode": {
    "name": "ipython",
    "version": 3
   },
   "file_extension": ".py",
   "mimetype": "text/x-python",
   "name": "python",
   "nbconvert_exporter": "python",
   "pygments_lexer": "ipython3",
   "version": "3.6.4"
  }
 },
 "nbformat": 4,
 "nbformat_minor": 2
}
