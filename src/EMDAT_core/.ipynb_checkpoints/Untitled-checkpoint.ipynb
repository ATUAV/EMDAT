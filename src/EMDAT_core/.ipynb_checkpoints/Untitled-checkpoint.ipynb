{
 "cells": [
  {
   "cell_type": "code",
   "execution_count": 1,
   "metadata": {},
   "outputs": [],
   "source": [
    "import numpy as np\n",
    "import pandas as pd\n",
    "from math import isnan"
   ]
  },
  {
   "cell_type": "code",
   "execution_count": 2,
   "metadata": {},
   "outputs": [
    {
     "name": "stderr",
     "output_type": "stream",
     "text": [
      "/home/grigorii/anaconda3/envs/py27/lib/python2.7/site-packages/IPython/core/interactiveshell.py:2718: DtypeWarning: Columns (34,36,37) have mixed types. Specify dtype option on import or set low_memory=False.\n",
      "  interactivity=interactivity, compiler=compiler, result=result)\n"
     ]
    }
   ],
   "source": [
    "data = pd.read_csv('test_data_17.tsv', sep='\\t')"
   ]
  },
  {
   "cell_type": "code",
   "execution_count": 3,
   "metadata": {},
   "outputs": [
    {
     "name": "stdout",
     "output_type": "stream",
     "text": [
      "57892\n"
     ]
    }
   ],
   "source": [
    "print(len(data))"
   ]
  },
  {
   "cell_type": "code",
   "execution_count": 4,
   "metadata": {},
   "outputs": [],
   "source": [
    "def point_inside_polygon(x,y,poly):\n",
    "    \"\"\"Determines if a point is inside a given polygon or not\n",
    "    \n",
    "        The algorithm is called \"Ray Casting Method\".\n",
    "        \n",
    "    Args:\n",
    "        poly: is a list of (x,y) pairs defining the polgon \n",
    "        \n",
    "    Returns:\n",
    "        True or False.\n",
    "    \"\"\"\n",
    "    n = len(poly)\n",
    "    \n",
    "    if n==0:\n",
    "        return False\n",
    "    \n",
    "    inside = False\n",
    "\n",
    "    p1x,p1y = poly[0]\n",
    "    for i in range(n+1):\n",
    "        p2x,p2y = poly[i % n]\n",
    "        if y > min(p1y,p2y):\n",
    "            if y <= max(p1y,p2y):\n",
    "                if x <= max(p1x,p2x):\n",
    "                    if p1y != p2y:\n",
    "                        xinters = (y-p1y)*(p2x-p1x)/(p2y-p1y)+p1x\n",
    "                    if p1x == p2x or x <= xinters:\n",
    "                        inside = not inside\n",
    "        p1x,p1y = p2x,p2y\n",
    "\n",
    "    return inside   \n",
    "\n",
    "## AOI boundaries\n",
    "graph_polyin = [(276,228),(1012,228),(1012,852),(276,852)]\n",
    "top_polyin = [(469,112), (811,112), (811,211), (469,211)]\n",
    "\n",
    "def _datapoint_inside_aoi(x, y, polyin):\n",
    "    \"\"\"Helper function that checks if a datapoint object is inside the AOI described by extrernal polygon polyin and the internal polygon polyout.\n",
    "\n",
    "    Datapoint object is inside AOI if it is inside polyin but outside polyout\n",
    "\n",
    "    Args:\n",
    "        datapoint: A Datapoint object\n",
    "        polyin: the external polygon in form of a list of (x,y) tuples\n",
    "        polyout: the internal polygon in form of a list of (x,y) tuples\n",
    "\n",
    "    Returns:\n",
    "        A boolean for whether the Datapoint is inside the AOI or not\n",
    "    \"\"\"\n",
    "    inside = False\n",
    "    if point_inside_polygon(x,y, polyin):\n",
    "            inside = True\n",
    "    return inside\n",
    "\n",
    "def get_chunk(data, ind, start, end):\n",
    "    \"\"\"Returns index of first and last records in data that fall within a time interval (start-end) \n",
    "    Args:\n",
    "        data: a list of subsequent Fixations or Datapoints\n",
    "        ind: an integer indicating the starting index in data for search, if not known \n",
    "            should be set to zero.\n",
    "        start: an integer indicating the start of interval in milliseconds\n",
    "        end: an integer indicating the end of interval in milliseconds\n",
    "        \n",
    "    Returns:\n",
    "        curr_ind: an integer indicating the index of the next record for search. \n",
    "            This is useful if you are performing a series searches in a sequential manner.\n",
    "            The method can start the next search from this index instead of beginning of the list.               \n",
    "        start_ind: an integer indicating the index of first record in the list that falls within\n",
    "            the given time interval\n",
    "        end_ind: an integer indicating the index of last record in the list that falls within\n",
    "            the given time interval\n",
    "    \"\"\"\n",
    "    datalen = len(data)\n",
    "    curr_ind = ind\n",
    "            \n",
    "    while curr_ind < datalen and data[curr_ind].timestamp < start:\n",
    "        curr_ind += 1\n",
    "        \n",
    "        start_ind = curr_ind\n",
    "        while curr_ind < datalen and data[curr_ind].timestamp <= end:\n",
    "            curr_ind += 1\n",
    "        \n",
    "        end_ind = curr_ind -1\n",
    "        \n",
    "        end_ind +=1 #because the last index is not inclusive in Python!\n",
    "    return curr_ind, start_ind, end_ind"
   ]
  },
  {
   "cell_type": "code",
   "execution_count": 5,
   "metadata": {},
   "outputs": [
    {
     "name": "stdout",
     "output_type": "stream",
     "text": [
      "Filtering non-ScreenRec datapoints\n",
      "57505\n",
      "()\n"
     ]
    }
   ],
   "source": [
    "print(\"Filtering non-ScreenRec datapoints\")\n",
    "filtered_data = data[data[\"MediaName\"] == 'ScreenRec']\n",
    "print(len(filtered_data))\n",
    "print()"
   ]
  },
  {
   "cell_type": "code",
   "execution_count": 6,
   "metadata": {
    "scrolled": true
   },
   "outputs": [
    {
     "name": "stdout",
     "output_type": "stream",
     "text": [
      "Removing points without validity info\n",
      "57337\n",
      "\n",
      "So far we are consistent with EMDAT output\n"
     ]
    }
   ],
   "source": [
    "print(\"Removing points without validity info\")\n",
    "filtered_data = filtered_data.dropna(subset=['ValidityLeft', 'ValidityRight'])\n",
    "print(len(filtered_data))"
   ]
  },
  {
   "cell_type": "markdown",
   "metadata": {},
   "source": [
    "## Mean pupil size for the scene"
   ]
  },
  {
   "cell_type": "code",
   "execution_count": 10,
   "metadata": {},
   "outputs": [],
   "source": [
    "pupil_sizes = pd.Series(np.zeros(len(filtered_data)))\n",
    "distance_dps = pd.Series(np.zeros(len(filtered_data)))"
   ]
  },
  {
   "cell_type": "code",
   "execution_count": 11,
   "metadata": {},
   "outputs": [],
   "source": [
    "def get_pupil_size(pupilleft, pupilright):\n",
    "    if isnan(pupilleft) and isnan(pupilright):\n",
    "        return -1\n",
    "    if isnan(pupilleft):\n",
    "        return pupilright\n",
    "    if isnan(pupilright):\n",
    "        return pupilleft\n",
    "    return (pupilleft + pupilright) / 2.0\n",
    "\n",
    "def get_distance(distanceleft, distanceright):\n",
    "    if isnan(distanceleft) and isnan(distanceright):\n",
    "        return -1\n",
    "    if isnan(distanceleft):\n",
    "        return distanceright\n",
    "    if isnan(distanceright):\n",
    "        return distanceleft\n",
    "    return (distanceleft + distanceright) / 2.0"
   ]
  },
  {
   "cell_type": "code",
   "execution_count": 12,
   "metadata": {},
   "outputs": [],
   "source": [
    "i = 0\n",
    "for index, row in filtered_data.iterrows():\n",
    "    pupil = get_pupil_size(row[\"PupilLeft\"], row[\"PupilRight\"])\n",
    "    distance = get_distance(row[\"DistanceLeft\"], row[\"DistanceRight\"])\n",
    "    pupil_sizes[i] = pupil\n",
    "    distance_dps[i] = distance\n",
    "    i += 1\n"
   ]
  },
  {
   "cell_type": "code",
   "execution_count": 13,
   "metadata": {},
   "outputs": [
    {
     "name": "stdout",
     "output_type": "stream",
     "text": [
      "number of all valid pupil size samples overall: 50777\n",
      "number of all valid distance samples overall: 47115\n",
      "Pupil size mean so far on the whole dataset: 2.264461\n",
      "Distance mean so far on the whole dataset: 614.516281\n",
      "Again, so far we have consistency with the original dataset\n"
     ]
    }
   ],
   "source": [
    "valid_pupil_data = pupil_sizes[pupil_sizes != -1]\n",
    "valid_distance_data = distance_dps[distance_dps != -1]\n",
    "valid_distance_data = valid_distance_data[valid_distance_data != 0]\n",
    "print('number of all valid pupil size samples overall: %d' % len(valid_pupil_data))\n",
    "print('number of all valid distance samples overall: %d' % len(valid_distance_data))\n",
    "\n",
    "print(\"Pupil size mean so far on the whole dataset: %f\" % valid_pupil_data.mean())\n",
    "print(\"Distance mean so far on the whole dataset: %f\" % valid_distance_data.mean())"
   ]
  },
  {
   "cell_type": "markdown",
   "metadata": {},
   "source": [
    "## Aggregated features for a scene\n"
   ]
  },
  {
   "cell_type": "code",
   "execution_count": 14,
   "metadata": {},
   "outputs": [
    {
     "name": "stdout",
     "output_type": "stream",
     "text": [
      "10286\n",
      "25071\n"
     ]
    }
   ],
   "source": [
    "## File 16\n",
    "#st_seg_1 = 59722\n",
    "#ed_seg_1 = 113120\n",
    "\n",
    "#st_seg_2 = 113120 \n",
    "#ed_seg_2 = 230202\n",
    "\n",
    "st_seg_1 = 72727\n",
    "ed_seg_1 = 158389\n",
    "st_seg_2 = 158389\n",
    "ed_seg_2 = 367172\n",
    "\n",
    "filtered_data_seg1 = filtered_data[filtered_data['RecordingTimestamp'].between(st_seg_1, ed_seg_1, inclusive=True)]\n",
    "filtered_data_seg2 = filtered_data[filtered_data['RecordingTimestamp'].between(st_seg_2, ed_seg_2, inclusive=True)]\n",
    "print(len(filtered_data_seg1))\n",
    "print(len(filtered_data_seg2))"
   ]
  },
  {
   "cell_type": "code",
   "execution_count": 15,
   "metadata": {},
   "outputs": [
    {
     "name": "stdout",
     "output_type": "stream",
     "text": [
      "Removing points with invalid gaze values for segment 1\n",
      "9910\n",
      "Removing points with invalid gaze values for segment 2\n",
      "21477\n"
     ]
    }
   ],
   "source": [
    "print(\"Removing points with invalid gaze values for segment 1\")\n",
    "filtered_data_seg1 = filtered_data_seg1.dropna(subset=['GazePointY (MCSpx)', 'GazePointX (MCSpx)'])\n",
    "print(len(filtered_data_seg1))\n",
    "\n",
    "print(\"Removing points with invalid gaze values for segment 2\")\n",
    "filtered_data_seg2 = filtered_data_seg2.dropna(subset=['GazePointY (MCSpx)', 'GazePointX (MCSpx)'])\n",
    "print(len(filtered_data_seg2))"
   ]
  },
  {
   "cell_type": "code",
   "execution_count": 16,
   "metadata": {},
   "outputs": [],
   "source": [
    "pupil_sizes_seg1 = pd.Series(np.zeros(len(filtered_data_seg1)))\n",
    "distance_dps_seg1 = pd.Series(np.zeros(len(filtered_data_seg1)))\n",
    "\n",
    "pupil_sizes_seg2 = pd.Series(np.zeros(len(filtered_data_seg2)))\n",
    "distance_dps_seg2 = pd.Series(np.zeros(len(filtered_data_seg2)))"
   ]
  },
  {
   "cell_type": "code",
   "execution_count": 17,
   "metadata": {},
   "outputs": [],
   "source": [
    "i = 0\n",
    "for index, row in filtered_data_seg1.iterrows():\n",
    "    pupil = get_pupil_size(row[\"PupilLeft\"], row[\"PupilRight\"])\n",
    "    distance = get_distance(row[\"DistanceLeft\"], row[\"DistanceRight\"])\n",
    "    pupil_sizes_seg1[i] = pupil\n",
    "    distance_dps_seg1[i] = distance\n",
    "    i += 1"
   ]
  },
  {
   "cell_type": "code",
   "execution_count": 18,
   "metadata": {},
   "outputs": [],
   "source": [
    "i = 0\n",
    "for index, row in filtered_data_seg2.iterrows():\n",
    "    pupil = get_pupil_size(row[\"PupilLeft\"], row[\"PupilRight\"])\n",
    "    distance = get_distance(row[\"DistanceLeft\"], row[\"DistanceRight\"])\n",
    "    pupil_sizes_seg2[i] = pupil\n",
    "    distance_dps_seg2[i] = distance\n",
    "    i += 1"
   ]
  },
  {
   "cell_type": "code",
   "execution_count": 19,
   "metadata": {},
   "outputs": [
    {
     "name": "stdout",
     "output_type": "stream",
     "text": [
      "number of all valid pupil size samples for segment 1: 9910\n",
      "number of all valid distance samples for segment 1: 9629\n",
      "Distance mean so far for the segment1: 631.939086\n",
      "Pupil mean so far for the segment: 2.354728\n",
      "number of all valid pupil size samples for segment 2: 21477\n",
      "number of all valid distance samples for segment 2: 19798\n",
      "Distance mean so far for the segment2: 602.812719\n",
      "Pupil mean so far for the segment2: 2.247576\n"
     ]
    }
   ],
   "source": [
    "valid_pupil_data_seg1 = pupil_sizes_seg1[pupil_sizes_seg1 > 0]\n",
    "valid_distance_data_seg1 = distance_dps_seg1[distance_dps_seg1 > 0]\n",
    "print('number of all valid pupil size samples for segment 1: %d' % len(valid_pupil_data_seg1))\n",
    "print('number of all valid distance samples for segment 1: %d' % len(valid_distance_data_seg1))\n",
    "\n",
    "print(\"Distance mean so far for the segment1: %f\" % valid_distance_data_seg1.mean())\n",
    "\n",
    "print(\"Pupil mean so far for the segment: %f\" % valid_pupil_data_seg1.mean())\n",
    "\n",
    "\n",
    "valid_pupil_data_seg2 = pupil_sizes_seg2[pupil_sizes_seg2 > 0]\n",
    "valid_distance_data_seg2 = distance_dps_seg2[distance_dps_seg2 > 0]\n",
    "print('number of all valid pupil size samples for segment 2: %d' % len(valid_pupil_data_seg2))\n",
    "print('number of all valid distance samples for segment 2: %d' % len(valid_distance_data_seg2))\n",
    "\n",
    "print(\"Distance mean so far for the segment2: %f\" % valid_distance_data_seg2.mean())\n",
    "\n",
    "print(\"Pupil mean so far for the segment2: %f\" % valid_pupil_data_seg2.mean())\n"
   ]
  },
  {
   "cell_type": "code",
   "execution_count": null,
   "metadata": {},
   "outputs": [],
   "source": []
  },
  {
   "cell_type": "code",
   "execution_count": null,
   "metadata": {},
   "outputs": [],
   "source": []
  },
  {
   "cell_type": "markdown",
   "metadata": {},
   "source": [
    "## AOI Features:"
   ]
  },
  {
   "cell_type": "code",
   "execution_count": null,
   "metadata": {},
   "outputs": [],
   "source": []
  },
  {
   "cell_type": "code",
   "execution_count": 37,
   "metadata": {},
   "outputs": [
    {
     "name": "stdout",
     "output_type": "stream",
     "text": [
      "removing points outside Graph AOI\n",
      "2408\n",
      "7502\n",
      "removing points outside Graph AOI\n",
      "4277\n",
      "17200\n",
      "removing points outside Top AOI\n",
      "9225\n",
      "685\n",
      "removing points outside Top AOI\n",
      "20076\n",
      "1401\n"
     ]
    }
   ],
   "source": [
    "filtered_data_seg1_graph = filtered_data_seg1.copy()\n",
    "filtered_data_seg2_graph = filtered_data_seg2.copy()\n",
    "filtered_data_seg1_top = filtered_data_seg1.copy()\n",
    "filtered_data_seg2_top = filtered_data_seg2.copy()\n",
    "\n",
    "print(\"removing points outside Graph AOI\")\n",
    "deleted_count = 0\n",
    "for index, row in filtered_data_seg1_graph.iterrows():\n",
    "    if not (_datapoint_inside_aoi(row['GazePointX (MCSpx)'], row['GazePointY (MCSpx)'], graph_polyin)):\n",
    "        deleted_count += 1\n",
    "        filtered_data_seg1_graph.drop(index, inplace=True)\n",
    "\n",
    "print(deleted_count)\n",
    "print(len(filtered_data_seg1_graph))\n",
    "\n",
    "print(\"removing points outside Graph AOI\")\n",
    "deleted_count = 0\n",
    "for index, row in filtered_data_seg2_graph.iterrows():\n",
    "    if not (_datapoint_inside_aoi(row['GazePointX (MCSpx)'], row['GazePointY (MCSpx)'], graph_polyin)):\n",
    "        deleted_count += 1\n",
    "        filtered_data_seg2_graph.drop(index, inplace=True)\n",
    "\n",
    "print(deleted_count)\n",
    "print(len(filtered_data_seg2_graph))\n",
    "\n",
    "print(\"removing points outside Top AOI\")\n",
    "deleted_count = 0\n",
    "for index, row in filtered_data_seg1_top.iterrows():\n",
    "    if not (_datapoint_inside_aoi(row['GazePointX (MCSpx)'], row['GazePointY (MCSpx)'], top_polyin)):\n",
    "        deleted_count += 1\n",
    "        filtered_data_seg1_top.drop(index, inplace=True)        \n",
    "        \n",
    "print(deleted_count)\n",
    "print(len(filtered_data_seg1_top))\n",
    "\n",
    "\n",
    "print(\"removing points outside Top AOI\")\n",
    "deleted_count = 0\n",
    "for index, row in filtered_data_seg2_top.iterrows():\n",
    "    if not (_datapoint_inside_aoi(row['GazePointX (MCSpx)'], row['GazePointY (MCSpx)'], top_polyin)):\n",
    "        deleted_count += 1\n",
    "        filtered_data_seg2_top.drop(index, inplace=True)        \n",
    "        \n",
    "print(deleted_count)\n",
    "print(len(filtered_data_seg2_top))\n"
   ]
  },
  {
   "cell_type": "code",
   "execution_count": 40,
   "metadata": {},
   "outputs": [],
   "source": [
    "pupil_sizes_seg1_graph = pd.Series(np.zeros(len(filtered_data_seg1_graph)))\n",
    "distances_seg1_graph = pd.Series(np.zeros(len(filtered_data_seg1_graph)))\n",
    "\n",
    "pupil_sizes_seg1_top = pd.Series(np.zeros(len(filtered_data_seg1_top)))\n",
    "distances_seg1_top = pd.Series(np.zeros(len(filtered_data_seg1_top)))\n",
    "\n",
    "pupil_sizes_seg2_graph = pd.Series(np.zeros(len(filtered_data_seg2_graph)))\n",
    "distances_seg2_graph = pd.Series(np.zeros(len(filtered_data_seg2_graph)))\n",
    "\n",
    "pupil_sizes_seg2_top = pd.Series(np.zeros(len(filtered_data_seg2_top)))\n",
    "distances_seg2_top = pd.Series(np.zeros(len(filtered_data_seg2_top)))"
   ]
  },
  {
   "cell_type": "code",
   "execution_count": 41,
   "metadata": {},
   "outputs": [],
   "source": [
    "def get_pupils(acc, filt_data):\n",
    "    i = 0\n",
    "    for index, row in filt_data.iterrows():\n",
    "        pupil = get_pupil_size(row[\"PupilLeft\"], row[\"PupilRight\"])\n",
    "        acc[i] = pupil\n",
    "        i += 1\n",
    "    return acc\n",
    "\n",
    "def get_distances(acc, filt_data):\n",
    "    i = 0\n",
    "    for index, row in filt_data.iterrows():\n",
    "        pupil = get_pupil_size(row[\"DistanceLeft\"], row[\"DistanceRight\"])\n",
    "        acc[i] = pupil\n",
    "        i += 1\n",
    "    return acc\n",
    "    "
   ]
  },
  {
   "cell_type": "code",
   "execution_count": null,
   "metadata": {},
   "outputs": [],
   "source": []
  },
  {
   "cell_type": "code",
   "execution_count": null,
   "metadata": {},
   "outputs": [],
   "source": []
  },
  {
   "cell_type": "code",
   "execution_count": 42,
   "metadata": {},
   "outputs": [],
   "source": [
    "pipil_sizes_seg1_graph = get_pupils(pupil_sizes_seg1_graph, filtered_data_seg1_graph)\n",
    "\n",
    "pipil_sizes_seg1_top = get_pupils(pupil_sizes_seg1_top, filtered_data_seg1_top)\n",
    "\n",
    "pipil_sizes_seg2_graph = get_pupils(pupil_sizes_seg2_graph, filtered_data_seg2_graph)\n",
    "\n",
    "pipil_sizes_seg2_top = get_pupils(pupil_sizes_seg2_top, filtered_data_seg2_top)\n",
    "\n",
    "\n",
    "distances_seg1_graph = get_distances(distances_seg1_graph, filtered_data_seg1_graph)\n",
    "\n",
    "distances_seg1_top = get_distances(distances_seg1_top, filtered_data_seg1_top)\n",
    "\n",
    "distances_seg2_graph = get_distances(distances_seg2_graph, filtered_data_seg2_graph)\n",
    "\n",
    "distances_seg2_top = get_distances(distances_seg2_top, filtered_data_seg2_top)"
   ]
  },
  {
   "cell_type": "code",
   "execution_count": 43,
   "metadata": {},
   "outputs": [
    {
     "name": "stdout",
     "output_type": "stream",
     "text": [
      "7502\n",
      "685\n",
      "17200\n",
      "1401\n",
      "7502\n",
      "685\n",
      "17200\n",
      "1401\n",
      "\n",
      "Sizes after dropping\n",
      "7502\n",
      "685\n",
      "17200\n",
      "1401\n",
      "7352\n",
      "628\n",
      "15854\n",
      "1314\n"
     ]
    }
   ],
   "source": [
    "print(len(pipil_sizes_seg1_graph))\n",
    "print(len(pipil_sizes_seg1_top))\n",
    "print(len(pipil_sizes_seg2_graph))\n",
    "print(len(pipil_sizes_seg2_top))\n",
    "print(len(distances_seg1_graph))\n",
    "print(len(distances_seg1_top))\n",
    "print(len(distances_seg2_graph))\n",
    "print(len(distances_seg2_top))\n",
    "\n",
    "pipil_sizes_seg1_graph = pipil_sizes_seg1_graph[pipil_sizes_seg1_graph > 0]\n",
    "pipil_sizes_seg1_top = pipil_sizes_seg1_top[pipil_sizes_seg1_top > 0]\n",
    "pipil_sizes_seg2_graph = pipil_sizes_seg2_graph[pipil_sizes_seg2_graph > 0]\n",
    "pipil_sizes_seg2_top = pipil_sizes_seg2_top[pipil_sizes_seg2_top > 0]\n",
    "\n",
    "\n",
    "distances_seg1_graph = distances_seg1_graph[distances_seg1_graph > 0]\n",
    "distances_seg1_top = distances_seg1_top[distances_seg1_top > 0]\n",
    "distances_seg2_graph = distances_seg2_graph[distances_seg2_graph > 0]\n",
    "distances_seg2_top = distances_seg2_top[distances_seg2_top > 0]\n",
    "\n",
    "\n",
    "print\n",
    "print('Sizes after dropping')\n",
    "print(len(pipil_sizes_seg1_graph))\n",
    "print(len(pipil_sizes_seg1_top))\n",
    "print(len(pipil_sizes_seg2_graph))\n",
    "print(len(pipil_sizes_seg2_top))\n",
    "print(len(distances_seg1_graph))\n",
    "print(len(distances_seg1_top))\n",
    "print(len(distances_seg2_graph))\n",
    "print(len(distances_seg2_top))"
   ]
  },
  {
   "cell_type": "code",
   "execution_count": 44,
   "metadata": {},
   "outputs": [
    {
     "name": "stdout",
     "output_type": "stream",
     "text": [
      "Means of pupil sizes\n",
      "2.36399160224\n",
      "2.24508029197\n",
      "2.25951773256\n",
      "2.17697359029\n",
      "Means of distances\n",
      "631.453409956\n",
      "633.226417197\n",
      "602.092546991\n",
      "609.396659056\n"
     ]
    }
   ],
   "source": [
    "print(\"Means of pupil sizes\")\n",
    "\n",
    "print(pipil_sizes_seg1_graph.mean())\n",
    "print(pipil_sizes_seg1_top.mean())\n",
    "print(pipil_sizes_seg2_graph.mean())\n",
    "print(pipil_sizes_seg2_top.mean())\n",
    "\n",
    "print(\"Means of distances\")\n",
    "\n",
    "print(distances_seg1_graph.mean())\n",
    "print(distances_seg1_top.mean())\n",
    "print(distances_seg2_graph.mean())\n",
    "print(distances_seg2_top.mean())"
   ]
  },
  {
   "cell_type": "code",
   "execution_count": 50,
   "metadata": {},
   "outputs": [
    {
     "name": "stdout",
     "output_type": "stream",
     "text": [
      "Maximums of pupil sizes\n",
      "2.85\n",
      "3.14\n",
      "2.5999999999999996\n",
      "2.415\n",
      "Maximums of distances\n",
      "650.27\n",
      "653.11\n",
      "654.61\n",
      "647.98\n"
     ]
    }
   ],
   "source": [
    "print(\"Maximums of pupil sizes\")\n",
    "\n",
    "print(pipil_sizes_seg1_graph.max())\n",
    "print(pipil_sizes_seg2_graph.max())\n",
    "print(pipil_sizes_seg1_top.max())\n",
    "\n",
    "print(pipil_sizes_seg2_top.max())\n",
    "\n",
    "print(\"Maximums of distances\")\n",
    "\n",
    "print(distances_seg1_graph.max())\n",
    "print(distances_seg2_graph.max())\n",
    "print(distances_seg1_top.max())\n",
    "print(distances_seg2_top.max())"
   ]
  },
  {
   "cell_type": "code",
   "execution_count": 59,
   "metadata": {},
   "outputs": [
    {
     "name": "stdout",
     "output_type": "stream",
     "text": [
      "stds of pupil sizes\n",
      "0.114865342858\n",
      "0.148383526922\n",
      "0.124349597873\n",
      "0.0626977900205\n",
      "stds of distances\n",
      "2.2638213712\n",
      "14.3479850018\n",
      "4.50552863263\n",
      "10.965956009\n"
     ]
    }
   ],
   "source": [
    "print(\"stds of pupil sizes\")\n",
    "\n",
    "print(pipil_sizes_seg1_graph.std())\n",
    "print(pipil_sizes_seg2_graph.std())\n",
    "\n",
    "print(pipil_sizes_seg1_top.std())\n",
    "\n",
    "print(pipil_sizes_seg2_top.std())\n",
    "\n",
    "print(\"stds of distances\")\n",
    "print(distances_seg1_graph.std())\n",
    "print(distances_seg2_graph.std())\n",
    "print(distances_seg1_top.std())\n",
    "\n",
    "print(distances_seg2_top.std())"
   ]
  },
  {
   "cell_type": "code",
   "execution_count": 51,
   "metadata": {},
   "outputs": [],
   "source": [
    "pupil_sizes_graph_merged = pd.concat([pipil_sizes_seg1_graph, pipil_sizes_seg2_graph])\n",
    "distances_graph_merged = pd.concat([distances_seg1_graph, distances_seg2_graph])\n",
    "\n",
    "pupil_sizes_top_merged = pd.concat([pipil_sizes_seg1_top, pipil_sizes_seg2_top])\n",
    "distances_top_merged = pd.concat([distances_seg1_top, distances_seg2_top])"
   ]
  },
  {
   "cell_type": "code",
   "execution_count": 54,
   "metadata": {},
   "outputs": [
    {
     "name": "stdout",
     "output_type": "stream",
     "text": [
      "maximum for merged features for graph:\n",
      "max pupil size for graph 3.140000\n",
      "max distance for graph 653.110000\n",
      "maximum for merged features for top:\n",
      "max pupil size for top 2.600000\n",
      "max distance for top 654.610000\n"
     ]
    }
   ],
   "source": [
    "print(\"maximum for merged features for graph:\")\n",
    "print(\"max pupil size for graph %f\" % pupil_sizes_graph_merged.max())\n",
    "print(\"max distance for graph %f\" % distances_graph_merged.max())\n",
    "\n",
    "print(\"maximum for merged features for top:\")\n",
    "print(\"max pupil size for top %f\" % pupil_sizes_top_merged.max())\n",
    "print(\"max distance for top %f\" % distances_top_merged.max())"
   ]
  },
  {
   "cell_type": "code",
   "execution_count": 57,
   "metadata": {},
   "outputs": [
    {
     "name": "stdout",
     "output_type": "stream",
     "text": [
      "means for merged features for graph:\n",
      "mean pupil size for graph 2.291246\n",
      "mean distance for graph 611.394498\n",
      "mean for merged features for top:\n",
      "mean pupil size for top 2.199338\n",
      "mean distance for top 617.102678\n"
     ]
    }
   ],
   "source": [
    "print(\"means for merged features for graph:\")\n",
    "print(\"mean pupil size for graph %f\" % pupil_sizes_graph_merged.mean())\n",
    "print(\"mean distance for graph %f\" % distances_graph_merged.mean())\n",
    "\n",
    "print(\"mean for merged features for top:\")\n",
    "print(\"mean pupil size for top %f\" % pupil_sizes_top_merged.mean())\n",
    "print(\"mean distance for top %f\" % distances_top_merged.mean())"
   ]
  },
  {
   "cell_type": "code",
   "execution_count": 58,
   "metadata": {},
   "outputs": [
    {
     "name": "stdout",
     "output_type": "stream",
     "text": [
      "stds for merged features for graph:\n",
      "std pupil size for graph 0.147124\n",
      "std distance for graph 18.134483\n",
      "std for merged features for top:\n",
      "std pupil size for top 0.093465\n",
      "std distance for top 14.567653\n"
     ]
    }
   ],
   "source": [
    "print(\"stds for merged features for graph:\")\n",
    "print(\"std pupil size for graph %f\" % pupil_sizes_graph_merged.std())\n",
    "print(\"std distance for graph %f\" % distances_graph_merged.std())\n",
    "\n",
    "print(\"std for merged features for top:\")\n",
    "print(\"std pupil size for top %f\" % pupil_sizes_top_merged.std())\n",
    "print(\"std distance for top %f\" % distances_top_merged.std())"
   ]
  },
  {
   "cell_type": "code",
   "execution_count": null,
   "metadata": {},
   "outputs": [],
   "source": []
  }
 ],
 "metadata": {
  "kernelspec": {
   "display_name": "Python 3",
   "language": "python",
   "name": "python3"
  },
  "language_info": {
   "codemirror_mode": {
    "name": "ipython",
    "version": 3
   },
   "file_extension": ".py",
   "mimetype": "text/x-python",
   "name": "python",
   "nbconvert_exporter": "python",
   "pygments_lexer": "ipython3",
   "version": "3.6.4"
  }
 },
 "nbformat": 4,
 "nbformat_minor": 2
}
